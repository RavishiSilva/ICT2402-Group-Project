{
 "cells": [
  {
   "cell_type": "code",
   "execution_count": null,
   "id": "80027ee2",
   "metadata": {},
   "outputs": [],
   "source": [
    "import cv2\n",
    "\n",
    "#Load the image\n",
    "image = cv2.imread('Day14.jpeg')\n",
    "\n",
    "#Apply Guassian Blur\n",
    "blurred_image = cv2.GaussianBlur(image, (5,5), sigmaX=1)\n",
    "\n",
    "#Display the result\n",
    "cv2.imshow('Original Image', image)\n",
    "cv2.imshow('Blurred Image', blurred_image)\n",
    "\n",
    "cv2.waitKey(0)\n",
    "cv2.destroyAllWindows()"
   ]
  },
  {
   "cell_type": "code",
   "execution_count": null,
   "id": "53c2993b",
   "metadata": {},
   "outputs": [],
   "source": [
    "import cv2\n",
    "import numpy as np\n",
    "\n",
    "# Define the 3x3 Gaussian kernel (after normalization)\n",
    "# Replace these values with your normalized kernel\n",
    "kernel = np.array([[0.058, 0.097, 0.058],\n",
    "                   [0.097, 0.159, 0.097],\n",
    "                   [0.058, 0.097, 0.058]], dtype=np.float32)\n",
    "\n",
    "# Load an image\n",
    "image_path = 'Day14.jpeg'  # Replace with the actual path\n",
    "image = cv2.imread('Day14.jpeg', cv2.IMREAD_GRAYSCALE)  \n",
    "\n",
    "# Apply the Gaussian kernel using convolution\n",
    "filtered_image = cv2.filter2D(src=image, ddepth=-1, kernel=kernel)\n",
    "\n",
    "# Display the original and filtered images\n",
    "cv2.imshow('Original Image', image)\n",
    "cv2.imshow('Gaussian Filtered Image', filtered_image)\n",
    "cv2.waitKey(0)\n",
    "cv2.destroyAllWindows()\n"
   ]
  },
  {
   "cell_type": "code",
   "execution_count": null,
   "id": "99de2a24",
   "metadata": {},
   "outputs": [],
   "source": []
  }
 ],
 "metadata": {
  "kernelspec": {
   "display_name": "Python 3 (ipykernel)",
   "language": "python",
   "name": "python3"
  },
  "language_info": {
   "codemirror_mode": {
    "name": "ipython",
    "version": 3
   },
   "file_extension": ".py",
   "mimetype": "text/x-python",
   "name": "python",
   "nbconvert_exporter": "python",
   "pygments_lexer": "ipython3",
   "version": "3.7.1"
  }
 },
 "nbformat": 4,
 "nbformat_minor": 5
}
