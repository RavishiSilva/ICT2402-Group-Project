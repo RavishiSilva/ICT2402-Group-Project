{
 "cells": [
  {
   "cell_type": "code",
   "execution_count": null,
   "id": "03182624",
   "metadata": {},
   "outputs": [],
   "source": [
    "import cv2\n",
    "import numpy as np\n",
    "\n",
    "# Load an image in grayscale\n",
    "image_path = 'Day14.jpeg' \n",
    "image = cv2.imread(image_path, cv2.IMREAD_GRAYSCALE)\n",
    "\n",
    "# Apply thresholding to ensure the image is binary\n",
    "_, binary_image = cv2.threshold(image, 127, 255, cv2.THRESH_BINARY)\n",
    "\n",
    "# Create a structuring element (5x5 rectangular kernel)\n",
    "kernel = np.ones((5, 5), dtype=np.uint8)\n",
    "\n",
    "# Perform dilation and erosion\n",
    "dilated_image = cv2.dilate(binary_image, kernel, iterations=1)\n",
    "eroded_image = cv2.erode(binary_image, kernel, iterations=1)\n",
    "\n",
    "# Compute the morphological gradient by subtracting the eroded image from the dilated image\n",
    "gradient_image = cv2.subtract(dilated_image, eroded_image)\n",
    "\n",
    "# Display the original, dilated, eroded, and gradient images\n",
    "cv2.imshow('Original Image', binary_image)\n",
    "cv2.imshow('Dilated Image', dilated_image)\n",
    "cv2.imshow('Eroded Image', eroded_image)\n",
    "cv2.imshow('Gradient Image', gradient_image)\n",
    "\n",
    "cv2.waitKey(0)\n",
    "cv2.destroyAllWindows()"
   ]
  },
  {
   "cell_type": "code",
   "execution_count": null,
   "id": "b74aa4fc",
   "metadata": {},
   "outputs": [],
   "source": []
  }
 ],
 "metadata": {
  "kernelspec": {
   "display_name": "Python 3 (ipykernel)",
   "language": "python",
   "name": "python3"
  },
  "language_info": {
   "codemirror_mode": {
    "name": "ipython",
    "version": 3
   },
   "file_extension": ".py",
   "mimetype": "text/x-python",
   "name": "python",
   "nbconvert_exporter": "python",
   "pygments_lexer": "ipython3",
   "version": "3.7.1"
  }
 },
 "nbformat": 4,
 "nbformat_minor": 5
}
