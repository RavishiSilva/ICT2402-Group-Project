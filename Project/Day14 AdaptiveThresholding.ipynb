{
 "cells": [
  {
   "cell_type": "code",
   "execution_count": null,
   "id": "918b941b",
   "metadata": {},
   "outputs": [],
   "source": [
    "import cv2\n",
    "import numpy as np\n",
    "\n",
    "# Load image\n",
    "# image = cv2.imread('Day14.jpeg', cv2.IMREAD_GRAYSCALE)\n",
    "image = cv2.imread('Day14.jpeg', cv2.IMREAD_GRAYSCALE)\n",
    "\n",
    "# Check if image is loaded properly\n",
    "if image is None:\n",
    "    print(\"Error: Image not found\")\n",
    "else:\n",
    "    # Adaptive thresholding\n",
    "    thresh3 = cv2.adaptiveThreshold(image, 255,\n",
    "                               cv2.ADAPTIVE_THRESH_GAUSSIAN_C,\n",
    "                                    cv2.THRESH_BINARY, 121, 7)\n",
    "\n",
    "    # Display images\n",
    "    cv2.imshow('Original Image', image)\n",
    "    cv2.imshow('Adaptive Thresholding', thresh3)\n",
    "\n",
    "    cv2.waitKey(0)\n",
    "    cv2.destroyAllWindows()\n"
   ]
  },
  {
   "cell_type": "code",
   "execution_count": null,
   "id": "60221c79",
   "metadata": {},
   "outputs": [],
   "source": []
  }
 ],
 "metadata": {
  "kernelspec": {
   "display_name": "Python 3 (ipykernel)",
   "language": "python",
   "name": "python3"
  },
  "language_info": {
   "codemirror_mode": {
    "name": "ipython",
    "version": 3
   },
   "file_extension": ".py",
   "mimetype": "text/x-python",
   "name": "python",
   "nbconvert_exporter": "python",
   "pygments_lexer": "ipython3",
   "version": "3.7.1"
  }
 },
 "nbformat": 4,
 "nbformat_minor": 5
}
