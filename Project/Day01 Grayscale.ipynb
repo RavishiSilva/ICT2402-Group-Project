{
 "cells": [
  {
   "cell_type": "code",
   "execution_count": null,
   "id": "cc464a71",
   "metadata": {},
   "outputs": [],
   "source": [
    "import cv2\n",
    "import numpy as np\n",
    "\n",
    "# Load the image\n",
    "image = cv2.imread('Day01.jpeg')\n",
    "\n",
    "# Convert to grayscale\n",
    "gray_image = cv2.cvtColor(image, cv2.COLOR_BGR2GRAY)\n",
    "\n",
    "# Display the final pre-processed image\n",
    "cv2.imshow('Final image', gray_image)\n",
    "\n",
    "# Display the original image\n",
    "cv2.imshow('Original image', image)\n",
    "\n",
    "cv2.waitKey(0)\n",
    "cv2.destroyAllWindows()"
   ]
  },
  {
   "cell_type": "code",
   "execution_count": null,
   "id": "a891b24c",
   "metadata": {},
   "outputs": [
    {
     "name": "stdout",
     "output_type": "stream",
     "text": [
      "Before Convertion: [160 160 142]\n",
      "After Convertion: 158\n"
     ]
    }
   ],
   "source": [
    "import cv2\n",
    "\n",
    "from cv2 import COLOR_RGB2GRAY\n",
    "\n",
    "img = cv2.imread('Day01.jpeg')\n",
    "cv2.imshow(\"Original Image\", img)\n",
    "print('Before Convertion:', img[0,0])\n",
    "\n",
    "img_gray = cv2.cvtColor(img, COLOR_RGB2GRAY)\n",
    "cv2.imshow(\"Grayscale Image\", img_gray)\n",
    "print('After Convertion:', img_gray[0,0])\n",
    "\n",
    "cv2.waitKey(0)\n",
    "cv2.destroyAllWindows()"
   ]
  },
  {
   "cell_type": "code",
   "execution_count": null,
   "id": "702eb7bd",
   "metadata": {},
   "outputs": [],
   "source": []
  }
 ],
 "metadata": {
  "kernelspec": {
   "display_name": "Python 3 (ipykernel)",
   "language": "python",
   "name": "python3"
  },
  "language_info": {
   "codemirror_mode": {
    "name": "ipython",
    "version": 3
   },
   "file_extension": ".py",
   "mimetype": "text/x-python",
   "name": "python",
   "nbconvert_exporter": "python",
   "pygments_lexer": "ipython3",
   "version": "3.7.1"
  }
 },
 "nbformat": 4,
 "nbformat_minor": 5
}
