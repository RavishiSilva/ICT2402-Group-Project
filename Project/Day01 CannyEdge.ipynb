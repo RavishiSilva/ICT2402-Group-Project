{
 "cells": [
  {
   "cell_type": "code",
   "execution_count": null,
   "id": "ca4956aa",
   "metadata": {},
   "outputs": [],
   "source": [
    "#canny edge detection \n",
    "\n",
    "import cv2\n",
    "\n",
    "# Load the image\n",
    "image_path = 'Day01.jpeg'\n",
    "image = cv2.imread('Day01.jpeg')\n",
    "\n",
    "# Check if the image was loaded successfully\n",
    "if image is None:\n",
    "    print(f\"Error: Unable to load image at {image_path}\")\n",
    "else:\n",
    "    # Convert the image to grayscale\n",
    "    gray_image = cv2.cvtColor(image, cv2.COLOR_BGR2GRAY)\n",
    "\n",
    "    # Apply Canny edge detector\n",
    "    # The parameters 100 and 200 are the low and high threshold values,\n",
    "                                                 \n",
    "edges = cv2.Canny(gray_image, 100, 200)\n",
    "\n",
    "    # Display the original and edge-detected images\n",
    "cv2.imshow('Original Image', image)\n",
    "cv2.imshow('Canny Edge Detection', edges)\n",
    "\n",
    "cv2.waitKey(0)\n",
    "cv2.destroyAllWindows()\n",
    "\n",
    "\n"
   ]
  },
  {
   "cell_type": "code",
   "execution_count": null,
   "id": "cdb77de7",
   "metadata": {},
   "outputs": [],
   "source": []
  }
 ],
 "metadata": {
  "kernelspec": {
   "display_name": "Python 3 (ipykernel)",
   "language": "python",
   "name": "python3"
  },
  "language_info": {
   "codemirror_mode": {
    "name": "ipython",
    "version": 3
   },
   "file_extension": ".py",
   "mimetype": "text/x-python",
   "name": "python",
   "nbconvert_exporter": "python",
   "pygments_lexer": "ipython3",
   "version": "3.7.1"
  }
 },
 "nbformat": 4,
 "nbformat_minor": 5
}
