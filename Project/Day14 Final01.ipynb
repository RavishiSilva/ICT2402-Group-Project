{
 "cells": [
  {
   "cell_type": "code",
   "execution_count": null,
   "id": "e6e44235",
   "metadata": {},
   "outputs": [],
   "source": [
    "import cv2\n",
    "\n",
    "# Load an image\n",
    "image_path = 'Day14.jpeg'  # Replace this with the path to your image\n",
    "\n",
    "image = cv2.imread(image_path)\n",
    "\n",
    "# Apply a median filter\n",
    "kernel_size = 3  # Size of the kernel window\n",
    "median_filtered_image = cv2.medianBlur(image, kernel_size)\n",
    "\n",
    "# Convert to grayscale\n",
    "gray_image = cv2.cvtColor(median_filtered_image, cv2.COLOR_BGR2GRAY)\n",
    "\n",
    "# Display the original and filtered images\n",
    "cv2.imshow('Original Image', image)\n",
    "cv2.imshow('Output Image', gray_image)\n",
    "cv2.waitKey(0)\n",
    "cv2.destroyAllWindows()\n"
   ]
  },
  {
   "cell_type": "code",
   "execution_count": null,
   "id": "802529bf",
   "metadata": {},
   "outputs": [],
   "source": []
  }
 ],
 "metadata": {
  "kernelspec": {
   "display_name": "Python 3 (ipykernel)",
   "language": "python",
   "name": "python3"
  },
  "language_info": {
   "codemirror_mode": {
    "name": "ipython",
    "version": 3
   },
   "file_extension": ".py",
   "mimetype": "text/x-python",
   "name": "python",
   "nbconvert_exporter": "python",
   "pygments_lexer": "ipython3",
   "version": "3.7.1"
  }
 },
 "nbformat": 4,
 "nbformat_minor": 5
}
