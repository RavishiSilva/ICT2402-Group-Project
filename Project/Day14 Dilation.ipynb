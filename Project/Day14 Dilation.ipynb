{
 "cells": [
  {
   "cell_type": "code",
   "execution_count": null,
   "id": "cd20bd54",
   "metadata": {},
   "outputs": [],
   "source": [
    "import cv2\n",
    "import numpy as np\n",
    "\n",
    "# Load an image\n",
    "image = cv2.imread('Day14.jpeg', cv2.IMREAD_GRAYSCALE)\n",
    "\n",
    "# Apply thresholding to create a binary image\n",
    "_, binary_image = cv2.threshold(image, 120, 255, cv2.THRESH_BINARY)\n",
    "\n",
    "# Define different structuring elements\n",
    "kernel_rect = cv2.getStructuringElement(cv2.MORPH_RECT, (5, 5))\n",
    "kernel_ellipse = cv2.getStructuringElement(cv2.MORPH_ELLIPSE, (5, 5))\n",
    "kernel_cross = cv2.getStructuringElement(cv2.MORPH_CROSS, (5, 5))\n",
    "\n",
    "# Apply dilation with different structuring elements\n",
    "dilated_rect = cv2.dilate(binary_image, kernel_rect, iterations=1)\n",
    "dilated_ellipse = cv2.dilate(binary_image, kernel_ellipse, iterations=1)\n",
    "dilated_cross = cv2.dilate(binary_image, kernel_cross, iterations=1)\n",
    "\n",
    "# Display the original and dilated images\n",
    "cv2.imshow('Original', binary_image)\n",
    "cv2.imshow('Dilated - Rectangle', dilated_rect)\n",
    "cv2.imshow('Dilated - Ellipse', dilated_ellipse)\n",
    "cv2.imshow('Dilated - Cross', dilated_cross)\n",
    "\n",
    "cv2.waitKey(0)\n",
    "cv2.destroyAllWindows()\n",
    "\n"
   ]
  },
  {
   "cell_type": "code",
   "execution_count": null,
   "id": "03687b2a",
   "metadata": {},
   "outputs": [],
   "source": []
  }
 ],
 "metadata": {
  "kernelspec": {
   "display_name": "Python 3 (ipykernel)",
   "language": "python",
   "name": "python3"
  },
  "language_info": {
   "codemirror_mode": {
    "name": "ipython",
    "version": 3
   },
   "file_extension": ".py",
   "mimetype": "text/x-python",
   "name": "python",
   "nbconvert_exporter": "python",
   "pygments_lexer": "ipython3",
   "version": "3.7.1"
  }
 },
 "nbformat": 4,
 "nbformat_minor": 5
}
